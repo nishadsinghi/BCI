{
 "cells": [
  {
   "cell_type": "code",
   "execution_count": 0,
   "metadata": {
    "colab": {},
    "colab_type": "code",
    "id": "DaCkfZRxTWzq"
   },
   "outputs": [],
   "source": [
    "# IMPORT LIBRARIES\n",
    "\n",
    "from keras.models import Sequential\n",
    "from keras.utils import np_utils\n",
    "from keras.layers.core import Dense, Activation, Dropout\n",
    "from keras.optimizers import Adam, SGD\n",
    "from keras.layers.advanced_activations import LeakyReLU\n",
    "\n",
    "import pandas as pd\n",
    "import numpy as np"
   ]
  },
  {
   "cell_type": "code",
   "execution_count": 0,
   "metadata": {
    "colab": {
     "base_uri": "https://localhost:8080/",
     "height": 289
    },
    "colab_type": "code",
    "id": "CMHV_I7rTiY8",
    "outputId": "f2d9bdc8-cb1c-4946-8362-21a2ec6d2815"
   },
   "outputs": [
    {
     "name": "stderr",
     "output_type": "stream",
     "text": [
      "/usr/local/lib/python3.6/dist-packages/ipykernel_launcher.py:3: DeprecationWarning: \n",
      ".ix is deprecated. Please use\n",
      ".loc for label based indexing or\n",
      ".iloc for positional indexing\n",
      "\n",
      "See the documentation here:\n",
      "http://pandas.pydata.org/pandas-docs/stable/indexing.html#ix-indexer-is-deprecated\n",
      "  This is separate from the ipykernel package so we can avoid doing imports until\n",
      "/usr/local/lib/python3.6/dist-packages/ipykernel_launcher.py:4: DeprecationWarning: \n",
      ".ix is deprecated. Please use\n",
      ".loc for label based indexing or\n",
      ".iloc for positional indexing\n",
      "\n",
      "See the documentation here:\n",
      "http://pandas.pydata.org/pandas-docs/stable/indexing.html#ix-indexer-is-deprecated\n",
      "  after removing the cwd from sys.path.\n"
     ]
    }
   ],
   "source": [
    "# READ DATA\n",
    "features_df = pd.read_csv('features.csv')\n",
    "labels_df = pd.read_csv('labels.csv')\n",
    "labels = labels_df.ix[327:653,:].values.astype('int32')\n",
    "X_train = (features_df.ix[327:653,:].values).astype('float32')"
   ]
  },
  {
   "cell_type": "code",
   "execution_count": 0,
   "metadata": {
    "colab": {},
    "colab_type": "code",
    "id": "wCmNh7adT8eD"
   },
   "outputs": [],
   "source": [
    "y_train = np_utils.to_categorical(labels) \n",
    "\n",
    "scale = np.max(X_train)\n",
    "X_train /= scale\n",
    "\n",
    "mean = np.std(X_train)\n",
    "X_train -= mean\n",
    "\n",
    "input_dim = X_train.shape[1]\n",
    "nb_classes = y_train.shape[1]"
   ]
  },
  {
   "cell_type": "code",
   "execution_count": 0,
   "metadata": {
    "colab": {
     "base_uri": "https://localhost:8080/",
     "height": 510
    },
    "colab_type": "code",
    "id": "P9KuNEgbUCFS",
    "outputId": "8c3f083e-53a1-4148-cb9d-9c2bf001ad45"
   },
   "outputs": [
    {
     "name": "stdout",
     "output_type": "stream",
     "text": [
      "_________________________________________________________________\n",
      "Layer (type)                 Output Shape              Param #   \n",
      "=================================================================\n",
      "dense_213 (Dense)            (None, 70)                15330     \n",
      "_________________________________________________________________\n",
      "activation_213 (Activation)  (None, 70)                0         \n",
      "_________________________________________________________________\n",
      "dropout_159 (Dropout)        (None, 70)                0         \n",
      "_________________________________________________________________\n",
      "dense_214 (Dense)            (None, 60)                4260      \n",
      "_________________________________________________________________\n",
      "activation_214 (Activation)  (None, 60)                0         \n",
      "_________________________________________________________________\n",
      "dropout_160 (Dropout)        (None, 60)                0         \n",
      "_________________________________________________________________\n",
      "dense_215 (Dense)            (None, 50)                3050      \n",
      "_________________________________________________________________\n",
      "activation_215 (Activation)  (None, 50)                0         \n",
      "_________________________________________________________________\n",
      "dropout_161 (Dropout)        (None, 50)                0         \n",
      "_________________________________________________________________\n",
      "dense_216 (Dense)            (None, 2)                 102       \n",
      "_________________________________________________________________\n",
      "activation_216 (Activation)  (None, 2)                 0         \n",
      "=================================================================\n",
      "Total params: 22,742\n",
      "Trainable params: 22,742\n",
      "Non-trainable params: 0\n",
      "_________________________________________________________________\n"
     ]
    }
   ],
   "source": [
    "l = LeakyReLU(alpha=0.3)\n",
    "model = Sequential()\n",
    "model.add(Dense(70, input_dim=input_dim))\n",
    "model.add(Activation('relu'))\n",
    "model.add(Dropout(0.65))\n",
    "model.add(Dense(60))\n",
    "model.add(Activation('relu'))\n",
    "model.add(Dropout(0.65))\n",
    "model.add(Dense(50))\n",
    "model.add(Activation('relu'))\n",
    "model.add(Dropout(0.65))\n",
    "model.add(Dense(nb_classes))\n",
    "model.add(Activation('softmax'))\n",
    "\n",
    "model.summary()"
   ]
  },
  {
   "cell_type": "code",
   "execution_count": 0,
   "metadata": {
    "colab": {
     "base_uri": "https://localhost:8080/",
     "height": 255
    },
    "colab_type": "code",
    "id": "4flanmZJULEC",
    "outputId": "5aea717f-cc5f-4659-c0d2-4549e1845290"
   },
   "outputs": [
    {
     "name": "stdout",
     "output_type": "stream",
     "text": [
      "Training...\n"
     ]
    },
    {
     "name": "stderr",
     "output_type": "stream",
     "text": [
      "/usr/local/lib/python3.6/dist-packages/ipykernel_launcher.py:6: UserWarning: The `nb_epoch` argument in `fit` has been renamed `epochs`.\n",
      "  \n"
     ]
    },
    {
     "name": "stdout",
     "output_type": "stream",
     "text": [
      "Epoch 1/5\n",
      " - 14s - loss: 0.6996 - acc: 0.5015\n",
      "Epoch 2/5\n",
      " - 0s - loss: 0.6994 - acc: 0.4924\n",
      "Epoch 3/5\n",
      " - 0s - loss: 0.6841 - acc: 0.5566\n",
      "Epoch 4/5\n",
      " - 0s - loss: 0.7007 - acc: 0.5138\n",
      "Epoch 5/5\n",
      " - 0s - loss: 0.7023 - acc: 0.4801\n"
     ]
    },
    {
     "data": {
      "text/plain": [
       "<keras.callbacks.History at 0x7f02fb55a9b0>"
      ]
     },
     "execution_count": 333,
     "metadata": {
      "tags": []
     },
     "output_type": "execute_result"
    }
   ],
   "source": [
    "sgd = SGD(lr=0.1, momentum=0.9, nesterov=True)\n",
    "model.compile(loss= 'categorical_crossentropy', optimizer=opt, metrics=[\"accuracy\"])\n",
    "\n",
    "print(\"Training...\")\n",
    "model.fit(X_train, y_train, nb_epoch=5, batch_size=16, validation_split=0, verbose=2)"
   ]
  },
  {
   "cell_type": "code",
   "execution_count": 0,
   "metadata": {
    "colab": {
     "base_uri": "https://localhost:8080/",
     "height": 918
    },
    "colab_type": "code",
    "id": "EJJdbahIrniu",
    "outputId": "d6356789-fdb8-468a-ac4c-560a8d451125"
   },
   "outputs": [
    {
     "name": "stderr",
     "output_type": "stream",
     "text": [
      "/usr/local/lib/python3.6/dist-packages/ipykernel_launcher.py:3: DeprecationWarning: \n",
      ".ix is deprecated. Please use\n",
      ".loc for label based indexing or\n",
      ".iloc for positional indexing\n",
      "\n",
      "See the documentation here:\n",
      "http://pandas.pydata.org/pandas-docs/stable/indexing.html#ix-indexer-is-deprecated\n",
      "  This is separate from the ipykernel package so we can avoid doing imports until\n",
      "/usr/local/lib/python3.6/dist-packages/ipykernel_launcher.py:4: DeprecationWarning: \n",
      ".ix is deprecated. Please use\n",
      ".loc for label based indexing or\n",
      ".iloc for positional indexing\n",
      "\n",
      "See the documentation here:\n",
      "http://pandas.pydata.org/pandas-docs/stable/indexing.html#ix-indexer-is-deprecated\n",
      "  after removing the cwd from sys.path.\n"
     ]
    },
    {
     "name": "stdout",
     "output_type": "stream",
     "text": [
      "Generating test predictions...\n",
      "[1 1 0 0 1 0 1 0 1 0 1 0 0 0 1 0 0 1 1 0 1 1 0 0 1 1 1 0 0 1 1 1 0 1 1 0 1\n",
      " 1 1 1 0 0 1 1 0 1 1 1 1 1 1 1 1 0 1 1 1 0 1 1 0 0 0 0 1 1 0 1 0 1 0 0 0 1\n",
      " 1 1 1 1 1 1 1 0 1 1 0 0 1 1 1 1 1 1 0 1 1 1 0 1 1 0 0 0 0 1 0 1 0 0 0 0 1\n",
      " 0 0 0 0 1 0 0 1 0 0 1 1 0 0 0 0 1 1 0 1 0 0 1 1 1 0 1 0 1 0 1 1 0 0 0 1 0\n",
      " 1 1 1 0 0 0 1 1 0 1 1 1 0 0 1 0 0 1 1 1 0 0 0 0 1 0 0 1 0 0 0 1 0 0 0 0 1\n",
      " 1 0 0 1 0 1 1 1 0 1 1 1 0 1 1 1 0 0 1 1 0 1 1 1 1 0 1 1 1 0 1 1 1 0 1 0 0\n",
      " 0 0 0 0 1 1 1 1 1 1 1 1 0 1 1 1 1 1 0 1 0 1]\n",
      "[0 1 0 0 0 1 0 1 1 0 1 0 1 0 1 1 1 0 0 0 0 0 1 0 1 1 1 1 0 0 0 1 1 0 1 0 1\n",
      " 0 0 1 0 0 0 0 0 1 1 1 1 1 0 1 1 1 0 0 1 0 0 1 0 0 0 1 1 1 0 1 0 0 1 1 0 1\n",
      " 0 0 0 0 1 1 1 0 0 1 1 0 0 0 1 1 1 1 1 1 1 1 0 1 0 1 0 1 1 0 0 1 1 0 1 0 0\n",
      " 1 1 0 0 0 0 1 1 1 0 0 1 1 0 1 1 1 1 0 1 0 0 0 0 1 0 0 1 1 0 0 1 1 0 1 0 1\n",
      " 0 0 0 0 0 1 1 1 0 1 1 1 1 0 1 0 1 1 0 1 1 0 0 0 0 1 0 1 0 1 0 1 1 0 1 1 0\n",
      " 1 1 1 0 1 0 0 1 1 0 1 1 1 1 0 0 0 0 1 1 0 0 0 0 0 1 0 0 1 0 1 1 1 1 1 1 0\n",
      " 0 1 0 0 1 1 0 1 0 0 0 1 1 0 0 0 0 1 0 1 0 1]\n",
      "[False  True  True  True False False False False  True  True  True  True\n",
      " False  True  True False False False False  True False False False  True\n",
      "  True  True  True False  True False False  True False False  True  True\n",
      "  True False False  True  True  True False False  True  True  True  True\n",
      "  True  True False  True  True False False False  True  True False  True\n",
      "  True  True  True False  True  True  True  True  True False False False\n",
      "  True  True False False False False  True  True  True  True False  True\n",
      " False  True False False  True  True  True  True False  True  True  True\n",
      "  True  True False False  True False False False  True  True False  True\n",
      " False  True False False False  True  True False  True False  True False\n",
      "  True False  True False  True False False  True  True  True  True  True\n",
      "  True False False  True  True False False  True  True False  True False\n",
      "  True False False False False False False  True  True False  True  True\n",
      "  True  True  True  True False  True  True  True False  True False  True\n",
      " False  True  True  True False False  True  True  True False  True  True\n",
      " False  True False False False  True False False False False False False\n",
      "  True False False  True  True False  True False False  True  True  True\n",
      "  True  True False False False False False False False  True  True  True\n",
      "  True  True False  True False  True  True False  True  True  True  True\n",
      " False  True False False False  True False False False False False  True\n",
      "  True  True  True  True]\n",
      "0.5450819672131147\n"
     ]
    }
   ],
   "source": [
    "test_features_df = pd.read_csv('test_features.csv')\n",
    "test_labels_df = pd.read_csv('test_labels.csv')\n",
    "y_test = test_labels_df.ix[231:474,:].values.astype('int32')\n",
    "X_test = (test_features_df.ix[231:474,:].values).astype('float32')\n",
    "X_test /= scale\n",
    "X_test -= mean\n",
    "\n",
    "print(\"Generating test predictions...\")\n",
    "preds = model.predict_classes(X_test, verbose=0)\n",
    "print(preds)\n",
    "print(y_test.T[0])\n",
    "a = (y_test.T[0] == preds)\n",
    "print(a)\n",
    "print(np.mean(a))"
   ]
  },
  {
   "cell_type": "code",
   "execution_count": 0,
   "metadata": {
    "colab": {},
    "colab_type": "code",
    "id": "38a3qIhNz7RF"
   },
   "outputs": [],
   "source": []
  }
 ],
 "metadata": {
  "accelerator": "GPU",
  "colab": {
   "collapsed_sections": [],
   "name": "BCI_MLP.ipynb",
   "provenance": [],
   "version": "0.3.2"
  },
  "kernelspec": {
   "display_name": "Python 3",
   "language": "python",
   "name": "python3"
  },
  "language_info": {
   "codemirror_mode": {
    "name": "ipython",
    "version": 3
   },
   "file_extension": ".py",
   "mimetype": "text/x-python",
   "name": "python",
   "nbconvert_exporter": "python",
   "pygments_lexer": "ipython3",
   "version": "3.7.4"
  }
 },
 "nbformat": 4,
 "nbformat_minor": 1
}
