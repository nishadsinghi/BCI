{
 "cells": [
  {
   "cell_type": "code",
   "execution_count": 1,
   "metadata": {
    "colab": {
     "base_uri": "https://localhost:8080/",
     "height": 34
    },
    "colab_type": "code",
    "id": "U8gMcEzdryI-",
    "outputId": "368105ab-642c-460d-e728-e7da9dea14a3"
   },
   "outputs": [],
   "source": [
    "import sys\n",
    "import pandas as pd\n",
    "import numpy as np\n",
    "\n",
    "from sklearn.preprocessing import StandardScaler\n",
    "from sklearn import svm, metrics, preprocessing\n",
    "from sklearn.model_selection import train_test_split, cross_val_score\n",
    "\n",
    "from scipy.fftpack import fft\n",
    "from matplotlib import pyplot as plt\n",
    "\n",
    "from sklearn.model_selection import GridSearchCV\n",
    "from sklearn.metrics import classification_report\n",
    "from sklearn.metrics import accuracy_score, log_loss\n",
    "\n",
    "from sklearn.svm import SVC\n",
    "from sklearn import decomposition\n",
    "\n",
    "from sklearn.preprocessing import LabelEncoder\n",
    "from sklearn.model_selection import StratifiedShuffleSplit\n",
    "import random"
   ]
  },
  {
   "cell_type": "code",
   "execution_count": 2,
   "metadata": {
    "colab": {},
    "colab_type": "code",
    "id": "ilKhcdizsPyG"
   },
   "outputs": [],
   "source": [
    "np.random.seed(0)"
   ]
  },
  {
   "cell_type": "code",
   "execution_count": 3,
   "metadata": {
    "colab": {},
    "colab_type": "code",
    "id": "74PJ82iOsho5"
   },
   "outputs": [],
   "source": [
    "y = np.zeros(180)\n",
    "y[0:45] = 1\n",
    "y[45:90] = 2\n",
    "y[90:135] = 3\n",
    "y[135:180] = 4"
   ]
  },
  {
   "cell_type": "code",
   "execution_count": 4,
   "metadata": {
    "colab": {},
    "colab_type": "code",
    "id": "wl0HaAspHq-M"
   },
   "outputs": [],
   "source": [
    "N = 4*2500\n",
    "sampling_frequency = 2500 # Hz\n",
    "channelAccuracies = {}\n",
    "allData = np.zeros((180, 40, 68))\n",
    "\n",
    "for channelNumber in range(1, 41):\n",
    "  x = pd.read_csv(\"BCI_Project/Snigdha_time_imagine/time_channel_{}.csv\".format(channelNumber), header=None)\n",
    "  x = np.array(x)\n",
    "  x = x[1:, 2500:12500:10]\n",
    "  \n",
    "  x_fft = fft(x)\n",
    "  x_fft = np.abs(x_fft[:int(N/20)])\n",
    "  x_fft = x_fft[:, 32:100]\n",
    "  \n",
    "  allData[:, channelNumber-1, :] = x_fft"
   ]
  },
  {
   "cell_type": "code",
   "execution_count": 5,
   "metadata": {
    "colab": {},
    "colab_type": "code",
    "id": "nIP6byg5X_SJ"
   },
   "outputs": [],
   "source": [
    "x_train, x_test, y_train, y_test = train_test_split(allData, y, test_size = 0.3, random_state = 0)"
   ]
  },
  {
   "cell_type": "code",
   "execution_count": 6,
   "metadata": {
    "colab": {
     "base_uri": "https://localhost:8080/",
     "height": 3437
    },
    "colab_type": "code",
    "id": "TdD9d40xX5Lt",
    "outputId": "02501446-cadb-4285-b371-1e4d4915f9eb"
   },
   "outputs": [],
   "source": [
    "scaledx_train = np.zeros(np.shape(x_train))\n",
    "scaledx_test = np.zeros(np.shape(x_test))\n",
    "\n",
    "for channelNumber in range(1, 41):  \n",
    "  scaler = preprocessing.StandardScaler().fit(x_train[:, channelNumber-1, :])\n",
    "  scaledx_train[:, channelNumber-1, :] = scaler.transform(x_train[:, channelNumber-1, :])\n",
    "  scaledx_test[:, channelNumber-1, :] = scaler.transform(x_test[:, channelNumber-1, :])"
   ]
  },
  {
   "cell_type": "code",
   "execution_count": 7,
   "metadata": {
    "colab": {
     "base_uri": "https://localhost:8080/",
     "height": 54
    },
    "colab_type": "code",
    "id": "LoLhHSQCHy1w",
    "outputId": "938d38de-de9e-41c0-810a-115ca4a903f2"
   },
   "outputs": [
    {
     "name": "stdout",
     "output_type": "stream",
     "text": [
      "[]\n"
     ]
    }
   ],
   "source": [
    "sorted_accuracies = sorted(channelAccuracies.items(), key=lambda kv: kv[1])\n",
    "print(sorted_accuracies)"
   ]
  },
  {
   "cell_type": "code",
   "execution_count": 107,
   "metadata": {
    "colab": {
     "base_uri": "https://localhost:8080/",
     "height": 102
    },
    "colab_type": "code",
    "id": "WQ8byBVrI8ew",
    "outputId": "48b842f8-05e0-4bdf-ac16-0e897b8dc4a0"
   },
   "outputs": [
    {
     "name": "stdout",
     "output_type": "stream",
     "text": [
      "(126, 7, 68)\n",
      "(126, 476)\n",
      "-------\n",
      "(54, 7, 68)\n",
      "(54, 476)\n"
     ]
    }
   ],
   "source": [
    "selectedChannelsData_train = scaledx_train[:, [19, 37, 20, 12, 38, 4, 36], :]\n",
    "selectedChannelsData_test = scaledx_test[:, [19, 37, 20, 12, 38, 4, 36], :]\n",
    "print(np.shape(selectedChannelsData_train))\n",
    "selectedChannelsData_train = np.reshape(selectedChannelsData_train, (126, -1))\n",
    "print(np.shape(selectedChannelsData_train))\n",
    "print(\"-------\")\n",
    "print(np.shape(selectedChannelsData_test))\n",
    "selectedChannelsData_test = np.reshape(selectedChannelsData_test, (54, -1))\n",
    "print(np.shape(selectedChannelsData_test))"
   ]
  },
  {
   "cell_type": "code",
   "execution_count": 8,
   "metadata": {
    "colab": {
     "base_uri": "https://localhost:8080/",
     "height": 224
    },
    "colab_type": "code",
    "id": "F7QL6xqhJQtL",
    "outputId": "a1bab646-4af2-4813-e421-c42c4959d9cc"
   },
   "outputs": [
    {
     "ename": "NameError",
     "evalue": "name 'selectedChannelsData_train' is not defined",
     "output_type": "error",
     "traceback": [
      "\u001b[0;31m---------------------------------------------------------------------------\u001b[0m",
      "\u001b[0;31mNameError\u001b[0m                                 Traceback (most recent call last)",
      "\u001b[0;32m<ipython-input-8-06120def5f33>\u001b[0m in \u001b[0;36m<module>\u001b[0;34m\u001b[0m\n\u001b[1;32m      4\u001b[0m clf = GridSearchCV(SVC(C=1), tuned_parameters, cv=10,\n\u001b[1;32m      5\u001b[0m                      scoring='accuracy')\n\u001b[0;32m----> 6\u001b[0;31m \u001b[0mclf\u001b[0m\u001b[0;34m.\u001b[0m\u001b[0mfit\u001b[0m\u001b[0;34m(\u001b[0m\u001b[0mselectedChannelsData_train\u001b[0m\u001b[0;34m,\u001b[0m \u001b[0my_train\u001b[0m\u001b[0;34m)\u001b[0m\u001b[0;34m\u001b[0m\u001b[0;34m\u001b[0m\u001b[0m\n\u001b[0m",
      "\u001b[0;31mNameError\u001b[0m: name 'selectedChannelsData_train' is not defined"
     ]
    }
   ],
   "source": [
    "tuned_parameters = [{'kernel': ['rbf'], 'gamma': [2**(-11), 2**(-9), 2**(-5), 2**(-3), 2**(-1), 2**1, 2**3],\n",
    "                   'C': [2**(-5), 2**(-1), 2**3, 2**5, 2**7, 2**15]}]\n",
    "\n",
    "clf = GridSearchCV(SVC(C=1), tuned_parameters, cv=10,\n",
    "                     scoring='accuracy')\n",
    "clf.fit(selectedChannelsData_train, y_train)"
   ]
  },
  {
   "cell_type": "code",
   "execution_count": 109,
   "metadata": {
    "colab": {
     "base_uri": "https://localhost:8080/",
     "height": 34
    },
    "colab_type": "code",
    "id": "0RQ23NR1JTF2",
    "outputId": "67983984-6fae-4720-d988-064848155177"
   },
   "outputs": [
    {
     "name": "stdout",
     "output_type": "stream",
     "text": [
      "Train Accuracy:  0.6078671328671329\n"
     ]
    }
   ],
   "source": [
    "clf = svm.SVC(C = clf.best_params_['C'], kernel = clf.best_params_['kernel'], gamma = clf.best_params_['gamma'])\n",
    "scores = cross_val_score(clf, selectedChannelsData_train, y_train, cv=10)\n",
    "print(\"Train Accuracy: \", scores.mean())"
   ]
  },
  {
   "cell_type": "code",
   "execution_count": 110,
   "metadata": {
    "colab": {
     "base_uri": "https://localhost:8080/",
     "height": 34
    },
    "colab_type": "code",
    "id": "wOWKA9xdJxCU",
    "outputId": "134633dd-2b7b-47aa-c5d0-4e9e62bd4945"
   },
   "outputs": [],
   "source": [
    "clf.fit(selectedChannelsData_train, y_train)\n",
    "test_predictions = clf.predict(selectedChannelsData_test)\n",
    "accuracy = np.mean(test_predictions == y_test)"
   ]
  },
  {
   "cell_type": "code",
   "execution_count": 111,
   "metadata": {},
   "outputs": [
    {
     "name": "stdout",
     "output_type": "stream",
     "text": [
      "[[ 7  6  0  0]\n",
      " [ 5  7  0  0]\n",
      " [ 0  2  9  2]\n",
      " [ 1  0  5 10]]\n"
     ]
    }
   ],
   "source": [
    "from sklearn.metrics import confusion_matrix\n",
    "results = confusion_matrix(y_test, test_predictions) \n",
    "print(results)"
   ]
  },
  {
   "cell_type": "code",
   "execution_count": 112,
   "metadata": {
    "colab": {},
    "colab_type": "code",
    "id": "oK4_jaYU2-0f"
   },
   "outputs": [
    {
     "name": "stdout",
     "output_type": "stream",
     "text": [
      "Test accuracy:  0.6111111111111112\n"
     ]
    }
   ],
   "source": [
    "print(\"Test accuracy: \", accuracy)"
   ]
  },
  {
   "cell_type": "code",
   "execution_count": 141,
   "metadata": {
    "colab": {
     "base_uri": "https://localhost:8080/",
     "height": 51
    },
    "colab_type": "code",
    "id": "ZN98y2ju_Btz",
    "outputId": "8eb11d75-3b50-4852-a0a0-cdcef9a8f6cb"
   },
   "outputs": [
    {
     "name": "stdout",
     "output_type": "stream",
     "text": [
      "(1, 476)\n",
      "Car should go backwards\n"
     ]
    }
   ],
   "source": [
    "run_input = selectedChannelsData_test[5, :]\n",
    "run_input = run_input.reshape((1, -1))\n",
    "print(np.shape(run_input))\n",
    "run_pred = clf.predict(run_input)\n",
    "run_label = y_test[5]\n",
    "\n",
    "if(run_label == 1):\n",
    "    print(\"Car should go forward\")\n",
    "elif(run_label == 2):\n",
    "    print(\"Car should go backwards\")\n",
    "elif(run_label == 3):\n",
    "    print(\"Car should go right\")\n",
    "elif(run_label == 4):\n",
    "    print(\"Car should go left\")"
   ]
  },
  {
   "cell_type": "code",
   "execution_count": 153,
   "metadata": {
    "colab": {
     "base_uri": "https://localhost:8080/",
     "height": 426
    },
    "colab_type": "code",
    "id": "gX9MFcus_xvx",
    "outputId": "078d3ffd-b716-4e9a-bf9a-6974c8d8fc8a"
   },
   "outputs": [
    {
     "name": "stdout",
     "output_type": "stream",
     "text": [
      "4\n"
     ]
    }
   ],
   "source": [
    "import serial\n",
    "import time\n",
    "time.sleep(2)\n",
    "ArduinoSerial = serial.Serial('/dev/cu.usbmodem14101',9600)\n",
    "\n",
    "print(run_pred)\n",
    "\n",
    "if(run_pred == 1):\n",
    "    ArduinoSerial.write('1'.encode())\n",
    "    ArduinoSerial.write('0'.encode())\n",
    "    \n",
    "if(run_pred == 2):\n",
    "    ArduinoSerial.write('2'.encode())\n",
    "    ArduinoSerial.write('0'.encode())\n",
    "    \n",
    "if(run_pred == 3):\n",
    "    ArduinoSerial.write('3'.encode())\n",
    "    ArduinoSerial.write('0'.encode())\n",
    "    \n",
    "if(run_pred == 4):\n",
    "    ArduinoSerial.write('4'.encode())\n",
    "    ArduinoSerial.write('0'.encode())"
   ]
  },
  {
   "cell_type": "code",
   "execution_count": 143,
   "metadata": {},
   "outputs": [
    {
     "name": "stdout",
     "output_type": "stream",
     "text": [
      "[3. 1. 3. 4. 4. 2. 2. 4. 4. 3. 1. 4. 4. 1. 1. 3. 4. 4. 1. 3. 4. 2. 2. 1.\n",
      " 3. 4. 3. 4. 4. 2. 1. 1. 3. 3. 2. 1. 2. 2. 2. 4. 3. 1. 1. 3. 2. 2. 1. 4.\n",
      " 3. 4. 1. 2. 4. 3.]\n"
     ]
    }
   ],
   "source": [
    "print(y_test)"
   ]
  },
  {
   "cell_type": "code",
   "execution_count": null,
   "metadata": {},
   "outputs": [],
   "source": []
  }
 ],
 "metadata": {
  "accelerator": "GPU",
  "colab": {
   "collapsed_sections": [],
   "name": "snigdha_calc_FFT_imagine_SVM_classify.ipynb",
   "provenance": [],
   "version": "0.3.2"
  },
  "kernelspec": {
   "display_name": "Python 3",
   "language": "python",
   "name": "python3"
  },
  "language_info": {
   "codemirror_mode": {
    "name": "ipython",
    "version": 3
   },
   "file_extension": ".py",
   "mimetype": "text/x-python",
   "name": "python",
   "nbconvert_exporter": "python",
   "pygments_lexer": "ipython3",
   "version": "3.7.4"
  }
 },
 "nbformat": 4,
 "nbformat_minor": 1
}
