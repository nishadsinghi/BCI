{
  "nbformat": 4,
  "nbformat_minor": 0,
  "metadata": {
    "colab": {
      "name": "BCI_MLP.ipynb",
      "version": "0.3.2",
      "provenance": [],
      "collapsed_sections": []
    },
    "kernelspec": {
      "name": "python3",
      "display_name": "Python 3"
    },
    "accelerator": "GPU"
  },
  "cells": [
    {
      "metadata": {
        "id": "DaCkfZRxTWzq",
        "colab_type": "code",
        "colab": {}
      },
      "cell_type": "code",
      "source": [
        "# IMPORT LIBRARIES\n",
        "\n",
        "from keras.models import Sequential\n",
        "from keras.utils import np_utils\n",
        "from keras.layers.core import Dense, Activation, Dropout\n",
        "from keras.optimizers import Adam, SGD\n",
        "from keras.layers.advanced_activations import LeakyReLU\n",
        "\n",
        "import pandas as pd\n",
        "import numpy as np"
      ],
      "execution_count": 0,
      "outputs": []
    },
    {
      "metadata": {
        "id": "CMHV_I7rTiY8",
        "colab_type": "code",
        "outputId": "f2d9bdc8-cb1c-4946-8362-21a2ec6d2815",
        "colab": {
          "base_uri": "https://localhost:8080/",
          "height": 289
        }
      },
      "cell_type": "code",
      "source": [
        "# READ DATA\n",
        "features_df = pd.read_csv('features.csv')\n",
        "labels_df = pd.read_csv('labels.csv')\n",
        "labels = labels_df.ix[327:653,:].values.astype('int32')\n",
        "X_train = (features_df.ix[327:653,:].values).astype('float32')\n",
        "# X_test = (pd.read_csv('test.csv').values).astype('float32')"
      ],
      "execution_count": 0,
      "outputs": [
        {
          "output_type": "stream",
          "text": [
            "/usr/local/lib/python3.6/dist-packages/ipykernel_launcher.py:3: DeprecationWarning: \n",
            ".ix is deprecated. Please use\n",
            ".loc for label based indexing or\n",
            ".iloc for positional indexing\n",
            "\n",
            "See the documentation here:\n",
            "http://pandas.pydata.org/pandas-docs/stable/indexing.html#ix-indexer-is-deprecated\n",
            "  This is separate from the ipykernel package so we can avoid doing imports until\n",
            "/usr/local/lib/python3.6/dist-packages/ipykernel_launcher.py:4: DeprecationWarning: \n",
            ".ix is deprecated. Please use\n",
            ".loc for label based indexing or\n",
            ".iloc for positional indexing\n",
            "\n",
            "See the documentation here:\n",
            "http://pandas.pydata.org/pandas-docs/stable/indexing.html#ix-indexer-is-deprecated\n",
            "  after removing the cwd from sys.path.\n"
          ],
          "name": "stderr"
        }
      ]
    },
    {
      "metadata": {
        "id": "wCmNh7adT8eD",
        "colab_type": "code",
        "colab": {}
      },
      "cell_type": "code",
      "source": [
        "# convert list of labels to binary class matrix\n",
        "y_train = np_utils.to_categorical(labels) \n",
        "\n",
        "# pre-processing: divide by max and substract mean\n",
        "scale = np.max(X_train)\n",
        "X_train /= scale\n",
        "# X_test /= scale\n",
        "\n",
        "mean = np.std(X_train)\n",
        "X_train -= mean\n",
        "# X_test -= mean\n",
        "\n",
        "input_dim = X_train.shape[1]\n",
        "nb_classes = y_train.shape[1]"
      ],
      "execution_count": 0,
      "outputs": []
    },
    {
      "metadata": {
        "id": "P9KuNEgbUCFS",
        "colab_type": "code",
        "outputId": "8c3f083e-53a1-4148-cb9d-9c2bf001ad45",
        "colab": {
          "base_uri": "https://localhost:8080/",
          "height": 510
        }
      },
      "cell_type": "code",
      "source": [
        "# Here's a Deep Dumb MLP (DDMLP)\n",
        "l = LeakyReLU(alpha=0.3)\n",
        "model = Sequential()\n",
        "model.add(Dense(70, input_dim=input_dim))\n",
        "model.add(Activation('relu'))\n",
        "model.add(Dropout(0.65))\n",
        "model.add(Dense(60))\n",
        "model.add(Activation('relu'))\n",
        "model.add(Dropout(0.65))\n",
        "model.add(Dense(50))\n",
        "model.add(Activation('relu'))\n",
        "model.add(Dropout(0.65))\n",
        "model.add(Dense(nb_classes))\n",
        "model.add(Activation('softmax'))\n",
        "\n",
        "model.summary()"
      ],
      "execution_count": 0,
      "outputs": [
        {
          "output_type": "stream",
          "text": [
            "_________________________________________________________________\n",
            "Layer (type)                 Output Shape              Param #   \n",
            "=================================================================\n",
            "dense_213 (Dense)            (None, 70)                15330     \n",
            "_________________________________________________________________\n",
            "activation_213 (Activation)  (None, 70)                0         \n",
            "_________________________________________________________________\n",
            "dropout_159 (Dropout)        (None, 70)                0         \n",
            "_________________________________________________________________\n",
            "dense_214 (Dense)            (None, 60)                4260      \n",
            "_________________________________________________________________\n",
            "activation_214 (Activation)  (None, 60)                0         \n",
            "_________________________________________________________________\n",
            "dropout_160 (Dropout)        (None, 60)                0         \n",
            "_________________________________________________________________\n",
            "dense_215 (Dense)            (None, 50)                3050      \n",
            "_________________________________________________________________\n",
            "activation_215 (Activation)  (None, 50)                0         \n",
            "_________________________________________________________________\n",
            "dropout_161 (Dropout)        (None, 50)                0         \n",
            "_________________________________________________________________\n",
            "dense_216 (Dense)            (None, 2)                 102       \n",
            "_________________________________________________________________\n",
            "activation_216 (Activation)  (None, 2)                 0         \n",
            "=================================================================\n",
            "Total params: 22,742\n",
            "Trainable params: 22,742\n",
            "Non-trainable params: 0\n",
            "_________________________________________________________________\n"
          ],
          "name": "stdout"
        }
      ]
    },
    {
      "metadata": {
        "id": "4flanmZJULEC",
        "colab_type": "code",
        "outputId": "5aea717f-cc5f-4659-c0d2-4549e1845290",
        "colab": {
          "base_uri": "https://localhost:8080/",
          "height": 255
        }
      },
      "cell_type": "code",
      "source": [
        "# we'll use categorical xent for the loss, and RMSprop as the optimizer\n",
        "# opt = Adam(lr=0.0001, beta_1=0.9, beta_2=0.999, decay=0.00)\n",
        "sgd = SGD(lr=0.1, momentum=0.9, nesterov=True)\n",
        "# lss = keras.losses.kullback_leibler_divergence(y_true, y_pred)\n",
        "model.compile(loss= 'categorical_crossentropy', optimizer=opt, metrics=[\"accuracy\"])\n",
        "\n",
        "print(\"Training...\")\n",
        "model.fit(X_train, y_train, nb_epoch=5, batch_size=16, validation_split=0, verbose=2)"
      ],
      "execution_count": 0,
      "outputs": [
        {
          "output_type": "stream",
          "text": [
            "Training...\n"
          ],
          "name": "stdout"
        },
        {
          "output_type": "stream",
          "text": [
            "/usr/local/lib/python3.6/dist-packages/ipykernel_launcher.py:6: UserWarning: The `nb_epoch` argument in `fit` has been renamed `epochs`.\n",
            "  \n"
          ],
          "name": "stderr"
        },
        {
          "output_type": "stream",
          "text": [
            "Epoch 1/5\n",
            " - 14s - loss: 0.6996 - acc: 0.5015\n",
            "Epoch 2/5\n",
            " - 0s - loss: 0.6994 - acc: 0.4924\n",
            "Epoch 3/5\n",
            " - 0s - loss: 0.6841 - acc: 0.5566\n",
            "Epoch 4/5\n",
            " - 0s - loss: 0.7007 - acc: 0.5138\n",
            "Epoch 5/5\n",
            " - 0s - loss: 0.7023 - acc: 0.4801\n"
          ],
          "name": "stdout"
        },
        {
          "output_type": "execute_result",
          "data": {
            "text/plain": [
              "<keras.callbacks.History at 0x7f02fb55a9b0>"
            ]
          },
          "metadata": {
            "tags": []
          },
          "execution_count": 333
        }
      ]
    },
    {
      "metadata": {
        "id": "EJJdbahIrniu",
        "colab_type": "code",
        "outputId": "d6356789-fdb8-468a-ac4c-560a8d451125",
        "colab": {
          "base_uri": "https://localhost:8080/",
          "height": 918
        }
      },
      "cell_type": "code",
      "source": [
        "test_features_df = pd.read_csv('test_features.csv')\n",
        "test_labels_df = pd.read_csv('test_labels.csv')\n",
        "y_test = test_labels_df.ix[231:474,:].values.astype('int32')\n",
        "X_test = (test_features_df.ix[231:474,:].values).astype('float32')\n",
        "X_test /= scale\n",
        "X_test -= mean\n",
        "# y_test = np_utils.to_categorical(tl) \n",
        "\n",
        "print(\"Generating test predictions...\")\n",
        "preds = model.predict_classes(X_test, verbose=0)\n",
        "print(preds)\n",
        "print(y_test.T[0])\n",
        "a = (y_test.T[0] == preds)\n",
        "print(a)\n",
        "print(np.mean(a))"
      ],
      "execution_count": 0,
      "outputs": [
        {
          "output_type": "stream",
          "text": [
            "/usr/local/lib/python3.6/dist-packages/ipykernel_launcher.py:3: DeprecationWarning: \n",
            ".ix is deprecated. Please use\n",
            ".loc for label based indexing or\n",
            ".iloc for positional indexing\n",
            "\n",
            "See the documentation here:\n",
            "http://pandas.pydata.org/pandas-docs/stable/indexing.html#ix-indexer-is-deprecated\n",
            "  This is separate from the ipykernel package so we can avoid doing imports until\n",
            "/usr/local/lib/python3.6/dist-packages/ipykernel_launcher.py:4: DeprecationWarning: \n",
            ".ix is deprecated. Please use\n",
            ".loc for label based indexing or\n",
            ".iloc for positional indexing\n",
            "\n",
            "See the documentation here:\n",
            "http://pandas.pydata.org/pandas-docs/stable/indexing.html#ix-indexer-is-deprecated\n",
            "  after removing the cwd from sys.path.\n"
          ],
          "name": "stderr"
        },
        {
          "output_type": "stream",
          "text": [
            "Generating test predictions...\n",
            "[1 1 0 0 1 0 1 0 1 0 1 0 0 0 1 0 0 1 1 0 1 1 0 0 1 1 1 0 0 1 1 1 0 1 1 0 1\n",
            " 1 1 1 0 0 1 1 0 1 1 1 1 1 1 1 1 0 1 1 1 0 1 1 0 0 0 0 1 1 0 1 0 1 0 0 0 1\n",
            " 1 1 1 1 1 1 1 0 1 1 0 0 1 1 1 1 1 1 0 1 1 1 0 1 1 0 0 0 0 1 0 1 0 0 0 0 1\n",
            " 0 0 0 0 1 0 0 1 0 0 1 1 0 0 0 0 1 1 0 1 0 0 1 1 1 0 1 0 1 0 1 1 0 0 0 1 0\n",
            " 1 1 1 0 0 0 1 1 0 1 1 1 0 0 1 0 0 1 1 1 0 0 0 0 1 0 0 1 0 0 0 1 0 0 0 0 1\n",
            " 1 0 0 1 0 1 1 1 0 1 1 1 0 1 1 1 0 0 1 1 0 1 1 1 1 0 1 1 1 0 1 1 1 0 1 0 0\n",
            " 0 0 0 0 1 1 1 1 1 1 1 1 0 1 1 1 1 1 0 1 0 1]\n",
            "[0 1 0 0 0 1 0 1 1 0 1 0 1 0 1 1 1 0 0 0 0 0 1 0 1 1 1 1 0 0 0 1 1 0 1 0 1\n",
            " 0 0 1 0 0 0 0 0 1 1 1 1 1 0 1 1 1 0 0 1 0 0 1 0 0 0 1 1 1 0 1 0 0 1 1 0 1\n",
            " 0 0 0 0 1 1 1 0 0 1 1 0 0 0 1 1 1 1 1 1 1 1 0 1 0 1 0 1 1 0 0 1 1 0 1 0 0\n",
            " 1 1 0 0 0 0 1 1 1 0 0 1 1 0 1 1 1 1 0 1 0 0 0 0 1 0 0 1 1 0 0 1 1 0 1 0 1\n",
            " 0 0 0 0 0 1 1 1 0 1 1 1 1 0 1 0 1 1 0 1 1 0 0 0 0 1 0 1 0 1 0 1 1 0 1 1 0\n",
            " 1 1 1 0 1 0 0 1 1 0 1 1 1 1 0 0 0 0 1 1 0 0 0 0 0 1 0 0 1 0 1 1 1 1 1 1 0\n",
            " 0 1 0 0 1 1 0 1 0 0 0 1 1 0 0 0 0 1 0 1 0 1]\n",
            "[False  True  True  True False False False False  True  True  True  True\n",
            " False  True  True False False False False  True False False False  True\n",
            "  True  True  True False  True False False  True False False  True  True\n",
            "  True False False  True  True  True False False  True  True  True  True\n",
            "  True  True False  True  True False False False  True  True False  True\n",
            "  True  True  True False  True  True  True  True  True False False False\n",
            "  True  True False False False False  True  True  True  True False  True\n",
            " False  True False False  True  True  True  True False  True  True  True\n",
            "  True  True False False  True False False False  True  True False  True\n",
            " False  True False False False  True  True False  True False  True False\n",
            "  True False  True False  True False False  True  True  True  True  True\n",
            "  True False False  True  True False False  True  True False  True False\n",
            "  True False False False False False False  True  True False  True  True\n",
            "  True  True  True  True False  True  True  True False  True False  True\n",
            " False  True  True  True False False  True  True  True False  True  True\n",
            " False  True False False False  True False False False False False False\n",
            "  True False False  True  True False  True False False  True  True  True\n",
            "  True  True False False False False False False False  True  True  True\n",
            "  True  True False  True False  True  True False  True  True  True  True\n",
            " False  True False False False  True False False False False False  True\n",
            "  True  True  True  True]\n",
            "0.5450819672131147\n"
          ],
          "name": "stdout"
        }
      ]
    },
    {
      "metadata": {
        "id": "38a3qIhNz7RF",
        "colab_type": "code",
        "colab": {}
      },
      "cell_type": "code",
      "source": [
        ""
      ],
      "execution_count": 0,
      "outputs": []
    }
  ]
}